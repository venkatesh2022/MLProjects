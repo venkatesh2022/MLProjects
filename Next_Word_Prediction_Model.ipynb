{
  "nbformat": 4,
  "nbformat_minor": 0,
  "metadata": {
    "colab": {
      "provenance": []
    },
    "kernelspec": {
      "name": "python3",
      "display_name": "Python 3"
    },
    "language_info": {
      "name": "python"
    }
  },
  "cells": [
    {
      "cell_type": "code",
      "execution_count": 2,
      "metadata": {
        "id": "fNwciue_XUR9"
      },
      "outputs": [],
      "source": [
        "import numpy as np\n",
        "import tensorflow as tf\n",
        "from tensorflow.keras.preprocessing.text import Tokenizer\n",
        "from tensorflow.keras.preprocessing.sequence import pad_sequences\n",
        "from tensorflow.keras.models import Sequential\n",
        "from tensorflow.keras.layers import Embedding, LSTM, Dense\n"
      ]
    },
    {
      "cell_type": "code",
      "source": [
        "# Read the text file\n",
        "with open('/content/sherlock-holm.es_stories_plain-text_advs.txt', 'r', encoding='utf-8') as file:\n",
        "    data = file.read()"
      ],
      "metadata": {
        "id": "a66NQKbRXv9S"
      },
      "execution_count": 3,
      "outputs": []
    },
    {
      "cell_type": "code",
      "source": [
        "tokenizer = Tokenizer()\n",
        "tokenizer.fit_on_texts([data])\n",
        "total_words = len(tokenizer.word_index) + 1"
      ],
      "metadata": {
        "id": "wpHhLOATYW00"
      },
      "execution_count": 6,
      "outputs": []
    },
    {
      "cell_type": "code",
      "source": [
        "total_words"
      ],
      "metadata": {
        "colab": {
          "base_uri": "https://localhost:8080/"
        },
        "id": "c9nEArrmYZFF",
        "outputId": "6f9295ae-6107-48e1-dafa-0f8773102d4a"
      },
      "execution_count": 7,
      "outputs": [
        {
          "output_type": "execute_result",
          "data": {
            "text/plain": [
              "8200"
            ]
          },
          "metadata": {},
          "execution_count": 7
        }
      ]
    },
    {
      "cell_type": "markdown",
      "source": [
        "This is the total number of unique words in data"
      ],
      "metadata": {
        "id": "acFL9AzKY8_A"
      }
    },
    {
      "cell_type": "code",
      "source": [
        "input_sequences = []\n",
        "for line in data.split('\\n'):\n",
        "  token_list = tokenizer.texts_to_sequences([line])[0]\n",
        "  for i in range(1, len(token_list)):\n",
        "    n_gram_sequence = token_list[:i+1]\n",
        "    input_sequences.append(n_gram_sequence)"
      ],
      "metadata": {
        "id": "V2iO_8bLY8IL"
      },
      "execution_count": 9,
      "outputs": []
    },
    {
      "cell_type": "code",
      "source": [
        "max_sequence_len = max([len(seq) for seq in input_sequences])\n",
        "input_sequences = np.array(pad_sequences(input_sequences, maxlen=max_sequence_len, padding='pre'))"
      ],
      "metadata": {
        "id": "yE6I7ZZ9ZTiK"
      },
      "execution_count": 10,
      "outputs": []
    },
    {
      "cell_type": "code",
      "source": [
        "X = input_sequences[:, :-1]\n",
        "y = input_sequences[:, -1]"
      ],
      "metadata": {
        "id": "rinJkAtlZwCs"
      },
      "execution_count": 11,
      "outputs": []
    },
    {
      "cell_type": "code",
      "source": [
        "y = np.array(tf.keras.utils.to_categorical(y, num_classes=total_words))"
      ],
      "metadata": {
        "id": "NDVg2hOKZ7je"
      },
      "execution_count": 12,
      "outputs": []
    },
    {
      "cell_type": "code",
      "source": [
        "model = Sequential()\n",
        "model.add(Embedding(total_words, 100, input_length=max_sequence_len-1))\n",
        "model.add(LSTM(150))\n",
        "model.add(Dense(total_words, activation='softmax'))\n",
        "print(model.summary())"
      ],
      "metadata": {
        "colab": {
          "base_uri": "https://localhost:8080/"
        },
        "id": "E7c04cXwaF6v",
        "outputId": "46c54638-4c61-4ae8-dfe1-d2f824ebab4b"
      },
      "execution_count": 13,
      "outputs": [
        {
          "output_type": "stream",
          "name": "stdout",
          "text": [
            "Model: \"sequential\"\n",
            "_________________________________________________________________\n",
            " Layer (type)                Output Shape              Param #   \n",
            "=================================================================\n",
            " embedding (Embedding)       (None, 17, 100)           820000    \n",
            "                                                                 \n",
            " lstm (LSTM)                 (None, 150)               150600    \n",
            "                                                                 \n",
            " dense (Dense)               (None, 8200)              1238200   \n",
            "                                                                 \n",
            "=================================================================\n",
            "Total params: 2208800 (8.43 MB)\n",
            "Trainable params: 2208800 (8.43 MB)\n",
            "Non-trainable params: 0 (0.00 Byte)\n",
            "_________________________________________________________________\n",
            "None\n"
          ]
        }
      ]
    },
    {
      "cell_type": "code",
      "source": [
        "model.compile(loss='categorical_crossentropy', optimizer='adam', metrics=['accuracy'])\n",
        "model.fit(X, y, epochs=100, verbose=1)"
      ],
      "metadata": {
        "colab": {
          "base_uri": "https://localhost:8080/"
        },
        "id": "BzmiPgvpakku",
        "outputId": "3cbf347c-b9dc-44b0-b838-b38c8a1f17b8"
      },
      "execution_count": 14,
      "outputs": [
        {
          "output_type": "stream",
          "name": "stdout",
          "text": [
            "Epoch 1/100\n",
            "3010/3010 [==============================] - 215s 71ms/step - loss: 6.2391 - accuracy: 0.0768\n",
            "Epoch 2/100\n",
            "3010/3010 [==============================] - 212s 71ms/step - loss: 5.5118 - accuracy: 0.1246\n",
            "Epoch 3/100\n",
            "3010/3010 [==============================] - 216s 72ms/step - loss: 5.1238 - accuracy: 0.1478\n",
            "Epoch 4/100\n",
            "3010/3010 [==============================] - 214s 71ms/step - loss: 4.7972 - accuracy: 0.1652\n",
            "Epoch 5/100\n",
            "3010/3010 [==============================] - 211s 70ms/step - loss: 4.4970 - accuracy: 0.1849\n",
            "Epoch 6/100\n",
            "3010/3010 [==============================] - 211s 70ms/step - loss: 4.2112 - accuracy: 0.2048\n",
            "Epoch 7/100\n",
            "3010/3010 [==============================] - 212s 70ms/step - loss: 3.9400 - accuracy: 0.2292\n",
            "Epoch 8/100\n",
            "3010/3010 [==============================] - 212s 70ms/step - loss: 3.6830 - accuracy: 0.2590\n",
            "Epoch 9/100\n",
            "3010/3010 [==============================] - 211s 70ms/step - loss: 3.4416 - accuracy: 0.2894\n",
            "Epoch 10/100\n",
            "3010/3010 [==============================] - 212s 71ms/step - loss: 3.2168 - accuracy: 0.3250\n",
            "Epoch 11/100\n",
            "3010/3010 [==============================] - 212s 70ms/step - loss: 3.0086 - accuracy: 0.3586\n",
            "Epoch 12/100\n",
            "3010/3010 [==============================] - 212s 70ms/step - loss: 2.8156 - accuracy: 0.3929\n",
            "Epoch 13/100\n",
            "3010/3010 [==============================] - 214s 71ms/step - loss: 2.6391 - accuracy: 0.4255\n",
            "Epoch 14/100\n",
            "3010/3010 [==============================] - 215s 72ms/step - loss: 2.4755 - accuracy: 0.4583\n",
            "Epoch 15/100\n",
            "3010/3010 [==============================] - 217s 72ms/step - loss: 2.3276 - accuracy: 0.4872\n",
            "Epoch 16/100\n",
            "3010/3010 [==============================] - 214s 71ms/step - loss: 2.1903 - accuracy: 0.5148\n",
            "Epoch 17/100\n",
            "3010/3010 [==============================] - 215s 71ms/step - loss: 2.0628 - accuracy: 0.5408\n",
            "Epoch 18/100\n",
            "3010/3010 [==============================] - 215s 72ms/step - loss: 1.9467 - accuracy: 0.5646\n",
            "Epoch 19/100\n",
            "3010/3010 [==============================] - 215s 72ms/step - loss: 1.8383 - accuracy: 0.5877\n",
            "Epoch 20/100\n",
            "3010/3010 [==============================] - 213s 71ms/step - loss: 1.7397 - accuracy: 0.6094\n",
            "Epoch 21/100\n",
            "3010/3010 [==============================] - 213s 71ms/step - loss: 1.6492 - accuracy: 0.6303\n",
            "Epoch 22/100\n",
            "3010/3010 [==============================] - 213s 71ms/step - loss: 1.5670 - accuracy: 0.6478\n",
            "Epoch 23/100\n",
            "3010/3010 [==============================] - 214s 71ms/step - loss: 1.4874 - accuracy: 0.6643\n",
            "Epoch 24/100\n",
            "3010/3010 [==============================] - 214s 71ms/step - loss: 1.4169 - accuracy: 0.6810\n",
            "Epoch 25/100\n",
            "3010/3010 [==============================] - 214s 71ms/step - loss: 1.3506 - accuracy: 0.6940\n",
            "Epoch 26/100\n",
            "3010/3010 [==============================] - 215s 71ms/step - loss: 1.2909 - accuracy: 0.7103\n",
            "Epoch 27/100\n",
            "3010/3010 [==============================] - 213s 71ms/step - loss: 1.2358 - accuracy: 0.7203\n",
            "Epoch 28/100\n",
            "3010/3010 [==============================] - 212s 71ms/step - loss: 1.1843 - accuracy: 0.7312\n",
            "Epoch 29/100\n",
            "3010/3010 [==============================] - 215s 71ms/step - loss: 1.1372 - accuracy: 0.7418\n",
            "Epoch 30/100\n",
            "3010/3010 [==============================] - 212s 71ms/step - loss: 1.0940 - accuracy: 0.7512\n",
            "Epoch 31/100\n",
            "3010/3010 [==============================] - 213s 71ms/step - loss: 1.0508 - accuracy: 0.7607\n",
            "Epoch 32/100\n",
            "3010/3010 [==============================] - 213s 71ms/step - loss: 1.0165 - accuracy: 0.7680\n",
            "Epoch 33/100\n",
            "3010/3010 [==============================] - 211s 70ms/step - loss: 0.9800 - accuracy: 0.7763\n",
            "Epoch 34/100\n",
            "3010/3010 [==============================] - 212s 70ms/step - loss: 0.9513 - accuracy: 0.7824\n",
            "Epoch 35/100\n",
            "3010/3010 [==============================] - 215s 71ms/step - loss: 0.9174 - accuracy: 0.7897\n",
            "Epoch 36/100\n",
            "3010/3010 [==============================] - 217s 72ms/step - loss: 0.8947 - accuracy: 0.7952\n",
            "Epoch 37/100\n",
            "3010/3010 [==============================] - 219s 73ms/step - loss: 0.8656 - accuracy: 0.8008\n",
            "Epoch 38/100\n",
            "3010/3010 [==============================] - 215s 71ms/step - loss: 0.8451 - accuracy: 0.8046\n",
            "Epoch 39/100\n",
            "3010/3010 [==============================] - 215s 71ms/step - loss: 0.8195 - accuracy: 0.8110\n",
            "Epoch 40/100\n",
            "3010/3010 [==============================] - 213s 71ms/step - loss: 0.8016 - accuracy: 0.8135\n",
            "Epoch 41/100\n",
            "3010/3010 [==============================] - 215s 71ms/step - loss: 0.7795 - accuracy: 0.8197\n",
            "Epoch 42/100\n",
            "3010/3010 [==============================] - 213s 71ms/step - loss: 0.7624 - accuracy: 0.8221\n",
            "Epoch 43/100\n",
            "3010/3010 [==============================] - 214s 71ms/step - loss: 0.7461 - accuracy: 0.8256\n",
            "Epoch 44/100\n",
            "3010/3010 [==============================] - 216s 72ms/step - loss: 0.7326 - accuracy: 0.8281\n",
            "Epoch 45/100\n",
            "3010/3010 [==============================] - 218s 72ms/step - loss: 0.7160 - accuracy: 0.8321\n",
            "Epoch 46/100\n",
            "3010/3010 [==============================] - 215s 71ms/step - loss: 0.7052 - accuracy: 0.8343\n",
            "Epoch 47/100\n",
            "3010/3010 [==============================] - 216s 72ms/step - loss: 0.6926 - accuracy: 0.8367\n",
            "Epoch 48/100\n",
            "3010/3010 [==============================] - 216s 72ms/step - loss: 0.6807 - accuracy: 0.8384\n",
            "Epoch 49/100\n",
            "3010/3010 [==============================] - 217s 72ms/step - loss: 0.6736 - accuracy: 0.8399\n",
            "Epoch 50/100\n",
            "3010/3010 [==============================] - 215s 72ms/step - loss: 0.6591 - accuracy: 0.8437\n",
            "Epoch 51/100\n",
            "3010/3010 [==============================] - 216s 72ms/step - loss: 0.6525 - accuracy: 0.8441\n",
            "Epoch 52/100\n",
            "3010/3010 [==============================] - 213s 71ms/step - loss: 0.6435 - accuracy: 0.8462\n",
            "Epoch 53/100\n",
            "3010/3010 [==============================] - 213s 71ms/step - loss: 0.6348 - accuracy: 0.8474\n",
            "Epoch 54/100\n",
            "3010/3010 [==============================] - 212s 70ms/step - loss: 0.6277 - accuracy: 0.8489\n",
            "Epoch 55/100\n",
            "3010/3010 [==============================] - 213s 71ms/step - loss: 0.6192 - accuracy: 0.8506\n",
            "Epoch 56/100\n",
            "3010/3010 [==============================] - 212s 70ms/step - loss: 0.6138 - accuracy: 0.8516\n",
            "Epoch 57/100\n",
            "3010/3010 [==============================] - 214s 71ms/step - loss: 0.6056 - accuracy: 0.8539\n",
            "Epoch 58/100\n",
            "3010/3010 [==============================] - 213s 71ms/step - loss: 0.6038 - accuracy: 0.8527\n",
            "Epoch 59/100\n",
            "3010/3010 [==============================] - 215s 71ms/step - loss: 0.5923 - accuracy: 0.8569\n",
            "Epoch 60/100\n",
            "3010/3010 [==============================] - 215s 71ms/step - loss: 0.5896 - accuracy: 0.8568\n",
            "Epoch 61/100\n",
            "3010/3010 [==============================] - 215s 72ms/step - loss: 0.5849 - accuracy: 0.8570\n",
            "Epoch 62/100\n",
            "3010/3010 [==============================] - 219s 73ms/step - loss: 0.5831 - accuracy: 0.8572\n",
            "Epoch 63/100\n",
            "3010/3010 [==============================] - 215s 71ms/step - loss: 0.5772 - accuracy: 0.8574\n",
            "Epoch 64/100\n",
            "3010/3010 [==============================] - 213s 71ms/step - loss: 0.5702 - accuracy: 0.8597\n",
            "Epoch 65/100\n",
            "3010/3010 [==============================] - 213s 71ms/step - loss: 0.5672 - accuracy: 0.8598\n",
            "Epoch 66/100\n",
            "3010/3010 [==============================] - 211s 70ms/step - loss: 0.5652 - accuracy: 0.8608\n",
            "Epoch 67/100\n",
            "3010/3010 [==============================] - 214s 71ms/step - loss: 0.5608 - accuracy: 0.8609\n",
            "Epoch 68/100\n",
            "3010/3010 [==============================] - 214s 71ms/step - loss: 0.5563 - accuracy: 0.8617\n",
            "Epoch 69/100\n",
            "3010/3010 [==============================] - 213s 71ms/step - loss: 0.5515 - accuracy: 0.8632\n",
            "Epoch 70/100\n",
            "3010/3010 [==============================] - 212s 71ms/step - loss: 0.5538 - accuracy: 0.8608\n",
            "Epoch 71/100\n",
            "3010/3010 [==============================] - 212s 70ms/step - loss: 0.5496 - accuracy: 0.8626\n",
            "Epoch 72/100\n",
            "3010/3010 [==============================] - 211s 70ms/step - loss: 0.5510 - accuracy: 0.8622\n",
            "Epoch 73/100\n",
            "3010/3010 [==============================] - 216s 72ms/step - loss: 0.5451 - accuracy: 0.8628\n",
            "Epoch 74/100\n",
            "3010/3010 [==============================] - 215s 71ms/step - loss: 0.5466 - accuracy: 0.8621\n",
            "Epoch 75/100\n",
            "3010/3010 [==============================] - 216s 72ms/step - loss: 0.5353 - accuracy: 0.8653\n",
            "Epoch 76/100\n",
            "3010/3010 [==============================] - 214s 71ms/step - loss: 0.5414 - accuracy: 0.8632\n",
            "Epoch 77/100\n",
            "3010/3010 [==============================] - 214s 71ms/step - loss: 0.5386 - accuracy: 0.8627\n",
            "Epoch 78/100\n",
            "3010/3010 [==============================] - 217s 72ms/step - loss: 0.5315 - accuracy: 0.8661\n",
            "Epoch 79/100\n",
            "3010/3010 [==============================] - 213s 71ms/step - loss: 0.5331 - accuracy: 0.8650\n",
            "Epoch 80/100\n",
            "3010/3010 [==============================] - 213s 71ms/step - loss: 0.5338 - accuracy: 0.8639\n",
            "Epoch 81/100\n",
            "3010/3010 [==============================] - 213s 71ms/step - loss: 0.5271 - accuracy: 0.8656\n",
            "Epoch 82/100\n",
            "3010/3010 [==============================] - 213s 71ms/step - loss: 0.5279 - accuracy: 0.8657\n",
            "Epoch 83/100\n",
            "3010/3010 [==============================] - 217s 72ms/step - loss: 0.5207 - accuracy: 0.8673\n",
            "Epoch 84/100\n",
            "3010/3010 [==============================] - 215s 71ms/step - loss: 0.5269 - accuracy: 0.8643\n",
            "Epoch 85/100\n",
            "3010/3010 [==============================] - 213s 71ms/step - loss: 0.5259 - accuracy: 0.8650\n",
            "Epoch 86/100\n",
            "3010/3010 [==============================] - 213s 71ms/step - loss: 0.5252 - accuracy: 0.8648\n",
            "Epoch 87/100\n",
            "3010/3010 [==============================] - 215s 71ms/step - loss: 0.5213 - accuracy: 0.8658\n",
            "Epoch 88/100\n",
            "3010/3010 [==============================] - 214s 71ms/step - loss: 0.5166 - accuracy: 0.8678\n",
            "Epoch 89/100\n",
            "3010/3010 [==============================] - 212s 71ms/step - loss: 0.5178 - accuracy: 0.8670\n",
            "Epoch 90/100\n",
            "3010/3010 [==============================] - 212s 71ms/step - loss: 0.5239 - accuracy: 0.8643\n",
            "Epoch 91/100\n",
            "3010/3010 [==============================] - 212s 70ms/step - loss: 0.5148 - accuracy: 0.8671\n",
            "Epoch 92/100\n",
            "3010/3010 [==============================] - 213s 71ms/step - loss: 0.5141 - accuracy: 0.8678\n",
            "Epoch 93/100\n",
            "3010/3010 [==============================] - 218s 72ms/step - loss: 0.5159 - accuracy: 0.8658\n",
            "Epoch 94/100\n",
            "3010/3010 [==============================] - 212s 70ms/step - loss: 0.5173 - accuracy: 0.8652\n",
            "Epoch 95/100\n",
            "3010/3010 [==============================] - 212s 71ms/step - loss: 0.5133 - accuracy: 0.8680\n",
            "Epoch 96/100\n",
            "3010/3010 [==============================] - 212s 71ms/step - loss: 0.5153 - accuracy: 0.8658\n",
            "Epoch 97/100\n",
            "3010/3010 [==============================] - 215s 71ms/step - loss: 0.5139 - accuracy: 0.8664\n",
            "Epoch 98/100\n",
            "3010/3010 [==============================] - 212s 70ms/step - loss: 0.5056 - accuracy: 0.8691\n",
            "Epoch 99/100\n",
            "3010/3010 [==============================] - 215s 71ms/step - loss: 0.5089 - accuracy: 0.8666\n",
            "Epoch 100/100\n",
            "3010/3010 [==============================] - 214s 71ms/step - loss: 0.5093 - accuracy: 0.8669\n"
          ]
        },
        {
          "output_type": "execute_result",
          "data": {
            "text/plain": [
              "<keras.src.callbacks.History at 0x7f258f411c90>"
            ]
          },
          "metadata": {},
          "execution_count": 14
        }
      ]
    },
    {
      "cell_type": "code",
      "source": [
        "seed_text = \"Everynight in my dreams I am\"\n",
        "next_words = 7\n",
        "\n",
        "for _ in range(next_words):\n",
        "    token_list = tokenizer.texts_to_sequences([seed_text])[0]\n",
        "    token_list = pad_sequences([token_list], maxlen=max_sequence_len-1, padding='pre')\n",
        "    predicted = np.argmax(model.predict(token_list), axis=-1)\n",
        "    output_word = \"\"\n",
        "    for word, index in tokenizer.word_index.items():\n",
        "        if index == predicted:\n",
        "            output_word = word\n",
        "            break\n",
        "    seed_text += \" \" + output_word\n",
        "\n",
        "print(seed_text)"
      ],
      "metadata": {
        "colab": {
          "base_uri": "https://localhost:8080/"
        },
        "id": "_MRfxX_4axQw",
        "outputId": "7d1cd449-d02f-4646-bc6d-31a82d7b3ac1"
      },
      "execution_count": 24,
      "outputs": [
        {
          "output_type": "stream",
          "name": "stdout",
          "text": [
            "1/1 [==============================] - 0s 28ms/step\n",
            "1/1 [==============================] - 0s 24ms/step\n",
            "1/1 [==============================] - 0s 27ms/step\n",
            "1/1 [==============================] - 0s 29ms/step\n",
            "1/1 [==============================] - 0s 29ms/step\n",
            "1/1 [==============================] - 0s 27ms/step\n",
            "1/1 [==============================] - 0s 25ms/step\n",
            "Everynight in my dreams I am able to give you my uncle's perplexity\n"
          ]
        }
      ]
    },
    {
      "cell_type": "code",
      "source": [],
      "metadata": {
        "id": "ai773Dhtsx-w"
      },
      "execution_count": null,
      "outputs": []
    }
  ]
}